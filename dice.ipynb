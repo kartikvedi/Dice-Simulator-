{
 "cells": [
  {
   "cell_type": "code",
   "execution_count": 1,
   "id": "bb7cf4f0",
   "metadata": {},
   "outputs": [],
   "source": [
    "import random"
   ]
  },
  {
   "cell_type": "code",
   "execution_count": null,
   "id": "7d167467",
   "metadata": {},
   "outputs": [
    {
     "name": "stdout",
     "output_type": "stream",
     "text": [
      "3\n",
      "Want to roll the die again ?(y/n):y\n",
      "1\n",
      "Want to roll the die again ?(y/n):n\n",
      "1\n"
     ]
    }
   ],
   "source": [
    "again=True\n",
    "while again:\n",
    "    print(random.randint(1,6))\n",
    "    another_one=input(\"Want to roll the die again ?(y/n):\")\n",
    "    if another_one.lower() == 'y':\n",
    "        continue"
   ]
  },
  {
   "cell_type": "code",
   "execution_count": null,
   "id": "e912f7c5",
   "metadata": {},
   "outputs": [],
   "source": []
  }
 ],
 "metadata": {
  "kernelspec": {
   "display_name": "Python 3 (ipykernel)",
   "language": "python",
   "name": "python3"
  },
  "language_info": {
   "codemirror_mode": {
    "name": "ipython",
    "version": 3
   },
   "file_extension": ".py",
   "mimetype": "text/x-python",
   "name": "python",
   "nbconvert_exporter": "python",
   "pygments_lexer": "ipython3",
   "version": "3.9.9"
  }
 },
 "nbformat": 4,
 "nbformat_minor": 5
}
